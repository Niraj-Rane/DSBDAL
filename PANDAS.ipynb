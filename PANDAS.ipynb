{
 "cells": [
  {
   "cell_type": "code",
   "execution_count": 11,
   "id": "619341e8-976e-4c0c-9cf2-6abd7e6162b8",
   "metadata": {},
   "outputs": [],
   "source": [
    "# Inventory DataFrame\n",
    "import pandas as pd\n",
    "data = {\n",
    "    \"Location1\": [100, 50, 300, 200, 80],\n",
    "    \"Location2\": [200, 60, 400, 250, 90],\n",
    "    \"Location3\": [150, 40, 350, 220, 70],\n",
    "    \"Location4\": [300, 80, 500, 270, 100]\n",
    "}\n",
    "\n",
    "inventory = pd.DataFrame(data, index=[\"Product1\", \"Product2\", \"Product3\", \"Product4\", \"Product5\"])"
   ]
  },
  {
   "cell_type": "code",
   "execution_count": 15,
   "id": "0192bb9e-44fd-49e9-9dfd-f23a06ecca9c",
   "metadata": {},
   "outputs": [
    {
     "data": {
      "text/html": [
       "<div>\n",
       "<style scoped>\n",
       "    .dataframe tbody tr th:only-of-type {\n",
       "        vertical-align: middle;\n",
       "    }\n",
       "\n",
       "    .dataframe tbody tr th {\n",
       "        vertical-align: top;\n",
       "    }\n",
       "\n",
       "    .dataframe thead th {\n",
       "        text-align: right;\n",
       "    }\n",
       "</style>\n",
       "<table border=\"1\" class=\"dataframe\">\n",
       "  <thead>\n",
       "    <tr style=\"text-align: right;\">\n",
       "      <th></th>\n",
       "      <th>Location1</th>\n",
       "      <th>Location2</th>\n",
       "      <th>Location3</th>\n",
       "      <th>Location4</th>\n",
       "    </tr>\n",
       "  </thead>\n",
       "  <tbody>\n",
       "    <tr>\n",
       "      <th>Product1</th>\n",
       "      <td>100</td>\n",
       "      <td>200</td>\n",
       "      <td>150</td>\n",
       "      <td>300</td>\n",
       "    </tr>\n",
       "    <tr>\n",
       "      <th>Product2</th>\n",
       "      <td>50</td>\n",
       "      <td>60</td>\n",
       "      <td>40</td>\n",
       "      <td>80</td>\n",
       "    </tr>\n",
       "  </tbody>\n",
       "</table>\n",
       "</div>"
      ],
      "text/plain": [
       "          Location1  Location2  Location3  Location4\n",
       "Product1        100        200        150        300\n",
       "Product2         50         60         40         80"
      ]
     },
     "execution_count": 15,
     "metadata": {},
     "output_type": "execute_result"
    }
   ],
   "source": [
    "inventory.head(2)\n"
   ]
  },
  {
   "cell_type": "code",
   "execution_count": 19,
   "id": "fa6b506e-e29a-48bd-9228-c2d9c928026a",
   "metadata": {},
   "outputs": [
    {
     "data": {
      "text/plain": [
       "(5, 4)"
      ]
     },
     "execution_count": 19,
     "metadata": {},
     "output_type": "execute_result"
    }
   ],
   "source": [
    "inventory.shape\n"
   ]
  },
  {
   "cell_type": "code",
   "execution_count": 21,
   "id": "6bfcb1ce-ecf0-4f45-bbf2-0d5aa3b5fb66",
   "metadata": {},
   "outputs": [
    {
     "data": {
      "text/plain": [
       "(Index(['Location1', 'Location2', 'Location3', 'Location4'], dtype='object'),\n",
       " Index(['Product1', 'Product2', 'Product3', 'Product4', 'Product5'], dtype='object'))"
      ]
     },
     "execution_count": 21,
     "metadata": {},
     "output_type": "execute_result"
    }
   ],
   "source": [
    "columns = inventory.columns\n",
    "rows = inventory.index\n",
    "columns, rows\n"
   ]
  },
  {
   "cell_type": "code",
   "execution_count": 23,
   "id": "e9c5d061-d8bd-4f94-acc9-e533a3ca9773",
   "metadata": {},
   "outputs": [
    {
     "data": {
      "text/plain": [
       "Location1    int64\n",
       "Location2    int64\n",
       "Location3    int64\n",
       "Location4    int64\n",
       "dtype: object"
      ]
     },
     "execution_count": 23,
     "metadata": {},
     "output_type": "execute_result"
    }
   ],
   "source": [
    "inventory.dtypes\n"
   ]
  },
  {
   "cell_type": "code",
   "execution_count": 25,
   "id": "7f7e5039-d527-4d4d-a179-e0b41eee9ee1",
   "metadata": {},
   "outputs": [
    {
     "data": {
      "text/plain": [
       "Location1    0\n",
       "Location2    0\n",
       "Location3    0\n",
       "Location4    0\n",
       "dtype: int64"
      ]
     },
     "execution_count": 25,
     "metadata": {},
     "output_type": "execute_result"
    }
   ],
   "source": [
    "inventory.isnull().sum()\n"
   ]
  },
  {
   "cell_type": "code",
   "execution_count": 27,
   "id": "b2313740-a216-49a8-972d-6d8cadab0b66",
   "metadata": {},
   "outputs": [
    {
     "data": {
      "text/plain": [
       "Location1    300\n",
       "Location2    400\n",
       "Location3    350\n",
       "Location4    500\n",
       "Name: Product3, dtype: int64"
      ]
     },
     "execution_count": 27,
     "metadata": {},
     "output_type": "execute_result"
    }
   ],
   "source": [
    "inventory.loc[\"Product3\"]\n"
   ]
  },
  {
   "cell_type": "code",
   "execution_count": 29,
   "id": "3b1a2d06-e816-4258-807d-a8e2cfeb9b63",
   "metadata": {},
   "outputs": [
    {
     "data": {
      "text/plain": [
       "Product1    200\n",
       "Product2     60\n",
       "Product3    400\n",
       "Product4    250\n",
       "Product5     90\n",
       "Name: Location2, dtype: int64"
      ]
     },
     "execution_count": 29,
     "metadata": {},
     "output_type": "execute_result"
    }
   ],
   "source": [
    "inventory[\"Location2\"]\n"
   ]
  },
  {
   "cell_type": "code",
   "execution_count": 31,
   "id": "4b4b35d6-45ce-49ce-999e-eaf932eeac31",
   "metadata": {},
   "outputs": [
    {
     "data": {
      "text/html": [
       "<div>\n",
       "<style scoped>\n",
       "    .dataframe tbody tr th:only-of-type {\n",
       "        vertical-align: middle;\n",
       "    }\n",
       "\n",
       "    .dataframe tbody tr th {\n",
       "        vertical-align: top;\n",
       "    }\n",
       "\n",
       "    .dataframe thead th {\n",
       "        text-align: right;\n",
       "    }\n",
       "</style>\n",
       "<table border=\"1\" class=\"dataframe\">\n",
       "  <thead>\n",
       "    <tr style=\"text-align: right;\">\n",
       "      <th></th>\n",
       "      <th>Location1</th>\n",
       "      <th>Location3</th>\n",
       "    </tr>\n",
       "  </thead>\n",
       "  <tbody>\n",
       "    <tr>\n",
       "      <th>Product1</th>\n",
       "      <td>100</td>\n",
       "      <td>150</td>\n",
       "    </tr>\n",
       "    <tr>\n",
       "      <th>Product4</th>\n",
       "      <td>200</td>\n",
       "      <td>220</td>\n",
       "    </tr>\n",
       "  </tbody>\n",
       "</table>\n",
       "</div>"
      ],
      "text/plain": [
       "          Location1  Location3\n",
       "Product1        100        150\n",
       "Product4        200        220"
      ]
     },
     "execution_count": 31,
     "metadata": {},
     "output_type": "execute_result"
    }
   ],
   "source": [
    "inventory.loc[[\"Product1\", \"Product4\"], [\"Location1\", \"Location3\"]]\n"
   ]
  },
  {
   "cell_type": "code",
   "execution_count": 33,
   "id": "8a743f26-b2b7-41da-81ef-e434903c1fdd",
   "metadata": {},
   "outputs": [
    {
     "data": {
      "text/html": [
       "<div>\n",
       "<style scoped>\n",
       "    .dataframe tbody tr th:only-of-type {\n",
       "        vertical-align: middle;\n",
       "    }\n",
       "\n",
       "    .dataframe tbody tr th {\n",
       "        vertical-align: top;\n",
       "    }\n",
       "\n",
       "    .dataframe thead th {\n",
       "        text-align: right;\n",
       "    }\n",
       "</style>\n",
       "<table border=\"1\" class=\"dataframe\">\n",
       "  <thead>\n",
       "    <tr style=\"text-align: right;\">\n",
       "      <th></th>\n",
       "      <th>Location1</th>\n",
       "      <th>Location2</th>\n",
       "    </tr>\n",
       "  </thead>\n",
       "  <tbody>\n",
       "    <tr>\n",
       "      <th>Product1</th>\n",
       "      <td>100</td>\n",
       "      <td>200</td>\n",
       "    </tr>\n",
       "    <tr>\n",
       "      <th>Product2</th>\n",
       "      <td>50</td>\n",
       "      <td>60</td>\n",
       "    </tr>\n",
       "    <tr>\n",
       "      <th>Product3</th>\n",
       "      <td>300</td>\n",
       "      <td>400</td>\n",
       "    </tr>\n",
       "  </tbody>\n",
       "</table>\n",
       "</div>"
      ],
      "text/plain": [
       "          Location1  Location2\n",
       "Product1        100        200\n",
       "Product2         50         60\n",
       "Product3        300        400"
      ]
     },
     "execution_count": 33,
     "metadata": {},
     "output_type": "execute_result"
    }
   ],
   "source": [
    "inventory.iloc[0:3, 0:2]\n"
   ]
  },
  {
   "cell_type": "code",
   "execution_count": null,
   "id": "38294fa6-27dc-4d7a-981e-b05bbcba5e8f",
   "metadata": {},
   "outputs": [],
   "source": []
  }
 ],
 "metadata": {
  "kernelspec": {
   "display_name": "Python [conda env:base] *",
   "language": "python",
   "name": "conda-base-py"
  },
  "language_info": {
   "codemirror_mode": {
    "name": "ipython",
    "version": 3
   },
   "file_extension": ".py",
   "mimetype": "text/x-python",
   "name": "python",
   "nbconvert_exporter": "python",
   "pygments_lexer": "ipython3",
   "version": "3.12.7"
  }
 },
 "nbformat": 4,
 "nbformat_minor": 5
}
